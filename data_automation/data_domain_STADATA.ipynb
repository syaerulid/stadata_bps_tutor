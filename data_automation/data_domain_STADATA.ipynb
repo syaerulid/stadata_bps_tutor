{
 "cells": [
  {
   "cell_type": "code",
   "execution_count": 2,
   "id": "1284d851",
   "metadata": {},
   "outputs": [],
   "source": [
    "import stadata\n",
    "import requests as r\n",
    "import json\n",
    "import pandas as pd"
   ]
  },
  {
   "cell_type": "markdown",
   "id": "8a4cf432",
   "metadata": {},
   "source": [
    "# 1. connect ke web BPS"
   ]
  },
  {
   "cell_type": "code",
   "execution_count": 6,
   "id": "90a8a0ad",
   "metadata": {},
   "outputs": [],
   "source": [
    "# connect ke web bps\n",
    "api_key = 'string api key milik kita' # ganti dengan string api key kita\n",
    "\n",
    "connect = stadata.Client(f\"{api_key}\")"
   ]
  },
  {
   "cell_type": "markdown",
   "id": "7f5aef87",
   "metadata": {},
   "source": [
    "# 2. Membuat Fungsi untuk cek nomor Domain"
   ]
  },
  {
   "cell_type": "code",
   "execution_count": 7,
   "id": "778b9fac",
   "metadata": {},
   "outputs": [],
   "source": [
    "web_bps = \"https://webapi.bps.go.id/v1/api\"\n",
    "type_domain = \"all\" #  bisa diganti ke all untuk semua, prov untuk provinsi, dan kab untuk kabupaten\n",
    "api_key = \"string api key milik kita\"\n",
    "\n",
    "def domain_stadata(web_bps, type_domain, api_key):\n",
    "    type_domain = \"all\" # all, prov, kab,prov\n",
    "    domain_api = f\"{web_bps}/domain/type/{type_domain}/key/{api_key}/\"\n",
    "    response = r.get(domain_api)\n",
    "    response.json()\n",
    "    return response.json()"
   ]
  },
  {
   "cell_type": "markdown",
   "id": "06a6b461",
   "metadata": {},
   "source": [
    "# 3. Memanggil data dari fungsi yang berformat json"
   ]
  },
  {
   "cell_type": "code",
   "execution_count": 13,
   "id": "b0360ba9",
   "metadata": {},
   "outputs": [],
   "source": [
    "data = domain_stadata(web_bps, type_domain, api_key)"
   ]
  },
  {
   "cell_type": "markdown",
   "id": "3832b08a",
   "metadata": {},
   "source": [
    "# 4. Mengubah data json dalam bentuk dataframe"
   ]
  },
  {
   "cell_type": "code",
   "execution_count": 14,
   "id": "4bff5da1",
   "metadata": {},
   "outputs": [
    {
     "data": {
      "text/html": [
       "<div>\n",
       "<style scoped>\n",
       "    .dataframe tbody tr th:only-of-type {\n",
       "        vertical-align: middle;\n",
       "    }\n",
       "\n",
       "    .dataframe tbody tr th {\n",
       "        vertical-align: top;\n",
       "    }\n",
       "\n",
       "    .dataframe thead th {\n",
       "        text-align: right;\n",
       "    }\n",
       "</style>\n",
       "<table border=\"1\" class=\"dataframe\">\n",
       "  <thead>\n",
       "    <tr style=\"text-align: right;\">\n",
       "      <th></th>\n",
       "      <th>domain_id</th>\n",
       "      <th>domain_name</th>\n",
       "      <th>domain_url</th>\n",
       "    </tr>\n",
       "  </thead>\n",
       "  <tbody>\n",
       "    <tr>\n",
       "      <th>0</th>\n",
       "      <td>0000</td>\n",
       "      <td>Pusat</td>\n",
       "      <td>http://www.bps.go.id</td>\n",
       "    </tr>\n",
       "    <tr>\n",
       "      <th>1</th>\n",
       "      <td>1100</td>\n",
       "      <td>Aceh</td>\n",
       "      <td>https://aceh.bps.go.id</td>\n",
       "    </tr>\n",
       "    <tr>\n",
       "      <th>2</th>\n",
       "      <td>1101</td>\n",
       "      <td>Simeulue</td>\n",
       "      <td>https://simeuluekab.bps.go.id</td>\n",
       "    </tr>\n",
       "    <tr>\n",
       "      <th>3</th>\n",
       "      <td>1102</td>\n",
       "      <td>Aceh Singkil</td>\n",
       "      <td>https://acehsingkilkab.bps.go.id</td>\n",
       "    </tr>\n",
       "    <tr>\n",
       "      <th>4</th>\n",
       "      <td>1103</td>\n",
       "      <td>Aceh Selatan</td>\n",
       "      <td>https://acehselatankab.bps.go.id</td>\n",
       "    </tr>\n",
       "  </tbody>\n",
       "</table>\n",
       "</div>"
      ],
      "text/plain": [
       "  domain_id   domain_name                        domain_url\n",
       "0      0000         Pusat              http://www.bps.go.id\n",
       "1      1100          Aceh            https://aceh.bps.go.id\n",
       "2      1101      Simeulue     https://simeuluekab.bps.go.id\n",
       "3      1102  Aceh Singkil  https://acehsingkilkab.bps.go.id\n",
       "4      1103  Aceh Selatan  https://acehselatankab.bps.go.id"
      ]
     },
     "execution_count": 14,
     "metadata": {},
     "output_type": "execute_result"
    }
   ],
   "source": [
    "json_data = data['data'][1]\n",
    "df = pd.DataFrame(json_data)\n",
    "df.head()"
   ]
  },
  {
   "cell_type": "code",
   "execution_count": null,
   "id": "64dcf4b8",
   "metadata": {},
   "outputs": [],
   "source": []
  }
 ],
 "metadata": {
  "kernelspec": {
   "display_name": "Python 3 (ipykernel)",
   "language": "python",
   "name": "python3"
  },
  "language_info": {
   "codemirror_mode": {
    "name": "ipython",
    "version": 3
   },
   "file_extension": ".py",
   "mimetype": "text/x-python",
   "name": "python",
   "nbconvert_exporter": "python",
   "pygments_lexer": "ipython3",
   "version": "3.11.4"
  }
 },
 "nbformat": 4,
 "nbformat_minor": 5
}
