{
 "cells": [
  {
   "cell_type": "code",
   "execution_count": 1,
   "id": "b232bd41",
   "metadata": {},
   "outputs": [],
   "source": [
    "import stadata\n",
    "import requests as r\n",
    "import json\n",
    "import pandas as pd"
   ]
  },
  {
   "cell_type": "markdown",
   "id": "ef48c9f0",
   "metadata": {},
   "source": [
    "# 1. Membuat Fungsi Static Table"
   ]
  },
  {
   "cell_type": "code",
   "execution_count": 12,
   "id": "52ec2e3d",
   "metadata": {},
   "outputs": [],
   "source": [
    "web_bps = \"https://webapi.bps.go.id/v1/api/view/domain\" # ini jangan diganti\n",
    "domain_id = 3300 # ganti dengan domain id yang kalian inginkan \n",
    "method = 'statictable' # methodnya jangan diganti\n",
    "bahasa = 'ind' # bisa bahasa 'ind' atau 'eng'\n",
    "table_id = 2711 # id table berupa integer\n",
    "api_key = 'api_key' # ganti dengan string api key kita\n",
    "\n",
    "def static_table_data(web_bps, domain_id, method, bahasa, table_id, api_key):\n",
    "    domain_static = f\"{web_bps}/{domain_id}/model/{method}/lang/{bahasa}/id/{table_id}/key/{api_key}/\"\n",
    "    response = r.get(domain_static)\n",
    "    response.json()\n",
    "    return response.json()"
   ]
  },
  {
   "cell_type": "markdown",
   "id": "b4a90bf8",
   "metadata": {},
   "source": [
    "# 2. memanggil fungsi dari static_table_data"
   ]
  },
  {
   "cell_type": "code",
   "execution_count": 21,
   "id": "93197f30",
   "metadata": {},
   "outputs": [],
   "source": [
    "static_data = static_table_data(web_bps, domain_id, method, bahasa, table_id, api_key) \n",
    "#static_data hanya contoh nama variable, bisa kalian ubah sesuka kalian"
   ]
  },
  {
   "cell_type": "markdown",
   "id": "26b5aa70",
   "metadata": {},
   "source": [
    "# 3. membuat fungsi untuk mendownload data"
   ]
  },
  {
   "cell_type": "code",
   "execution_count": 22,
   "id": "f26bc0e0",
   "metadata": {},
   "outputs": [],
   "source": [
    "filename = 'telur_susu_2023-07.xls' # bisa kalian ganti sesuai nama file yang kalian inginkan\n",
    "url_download = static_data['data']['excel']\n",
    "\n",
    "def download_file(url_download):\n",
    "    response = r.get(url_download)\n",
    "    if response.status_code == 200:\n",
    "        with open(filename, 'wb') as downloaded_file:\n",
    "            downloaded_file.write(response.content)\n",
    "        print(f\"File sudah tersimpan, dengan nama sebagai berikut {filename}\")\n",
    "    else:\n",
    "        print(f\"Gagal untuk menyimpan File. Status code Request sebagai berikut:{response}\")\n",
    "    \n",
    "    return"
   ]
  },
  {
   "cell_type": "code",
   "execution_count": 23,
   "id": "aa7308d2",
   "metadata": {},
   "outputs": [
    {
     "name": "stdout",
     "output_type": "stream",
     "text": [
      "File sudah tersimpan, dengan nama sebagai berikut telur_susu_2023-07.xls\n"
     ]
    }
   ],
   "source": [
    "download_file(url_download)"
   ]
  },
  {
   "cell_type": "markdown",
   "id": "094ba2b1",
   "metadata": {},
   "source": [
    "# 4. load file dalam bentuk DataFrame"
   ]
  },
  {
   "cell_type": "code",
   "execution_count": 24,
   "id": "023ac898",
   "metadata": {},
   "outputs": [
    {
     "data": {
      "text/html": [
       "<div>\n",
       "<style scoped>\n",
       "    .dataframe tbody tr th:only-of-type {\n",
       "        vertical-align: middle;\n",
       "    }\n",
       "\n",
       "    .dataframe tbody tr th {\n",
       "        vertical-align: top;\n",
       "    }\n",
       "\n",
       "    .dataframe thead th {\n",
       "        text-align: right;\n",
       "    }\n",
       "</style>\n",
       "<table border=\"1\" class=\"dataframe\">\n",
       "  <thead>\n",
       "    <tr style=\"text-align: right;\">\n",
       "      <th></th>\n",
       "      <th>Produksi Telur Unggas dan Susu Sapi Menurut Kabupaten/Kota dan Jenis Ternak di Provinsi Jawa Tengah (ton), 2021 dan 2022</th>\n",
       "      <th>Unnamed: 1</th>\n",
       "      <th>Unnamed: 2</th>\n",
       "      <th>Unnamed: 3</th>\n",
       "      <th>Unnamed: 4</th>\n",
       "      <th>Unnamed: 5</th>\n",
       "      <th>Unnamed: 6</th>\n",
       "      <th>Unnamed: 7</th>\n",
       "      <th>Unnamed: 8</th>\n",
       "      <th>Unnamed: 9</th>\n",
       "      <th>Unnamed: 10</th>\n",
       "      <th>Unnamed: 11</th>\n",
       "      <th>Unnamed: 12</th>\n",
       "      <th>Unnamed: 13</th>\n",
       "    </tr>\n",
       "  </thead>\n",
       "  <tbody>\n",
       "    <tr>\n",
       "      <th>0</th>\n",
       "      <td>Production of Poultry Eggs and Cow Milk by Reg...</td>\n",
       "      <td>NaN</td>\n",
       "      <td>NaN</td>\n",
       "      <td>NaN</td>\n",
       "      <td>NaN</td>\n",
       "      <td>NaN</td>\n",
       "      <td>NaN</td>\n",
       "      <td>NaN</td>\n",
       "      <td>NaN</td>\n",
       "      <td>NaN</td>\n",
       "      <td>NaN</td>\n",
       "      <td>NaN</td>\n",
       "      <td>NaN</td>\n",
       "      <td>NaN</td>\n",
       "    </tr>\n",
       "    <tr>\n",
       "      <th>1</th>\n",
       "      <td>Kabupaten/Kota\\nRegency/ Municipality</td>\n",
       "      <td>NaN</td>\n",
       "      <td>Ayam Kampung\\nNative Chicken</td>\n",
       "      <td>NaN</td>\n",
       "      <td>Ayam Petelur\\nLayer</td>\n",
       "      <td>NaN</td>\n",
       "      <td>Itik\\nDuck</td>\n",
       "      <td>NaN</td>\n",
       "      <td>Sapi Perah\\nDairy Cattle</td>\n",
       "      <td>NaN</td>\n",
       "      <td>Kulit Sapi/Kerbau (lembar)</td>\n",
       "      <td>NaN</td>\n",
       "      <td>Kulit Kambing/Domba (lembar)</td>\n",
       "      <td>NaN</td>\n",
       "    </tr>\n",
       "    <tr>\n",
       "      <th>2</th>\n",
       "      <td>NaN</td>\n",
       "      <td>NaN</td>\n",
       "      <td>2021</td>\n",
       "      <td>2022*</td>\n",
       "      <td>2021</td>\n",
       "      <td>2022*</td>\n",
       "      <td>2021</td>\n",
       "      <td>2022*</td>\n",
       "      <td>2021</td>\n",
       "      <td>2022*</td>\n",
       "      <td>2021</td>\n",
       "      <td>2022*</td>\n",
       "      <td>2021</td>\n",
       "      <td>2022*</td>\n",
       "    </tr>\n",
       "    <tr>\n",
       "      <th>3</th>\n",
       "      <td>Kabupaten/Regency</td>\n",
       "      <td>NaN</td>\n",
       "      <td>NaN</td>\n",
       "      <td>NaN</td>\n",
       "      <td>NaN</td>\n",
       "      <td>NaN</td>\n",
       "      <td>NaN</td>\n",
       "      <td>NaN</td>\n",
       "      <td>NaN</td>\n",
       "      <td>NaN</td>\n",
       "      <td>NaN</td>\n",
       "      <td>NaN</td>\n",
       "      <td>NaN</td>\n",
       "      <td>NaN</td>\n",
       "    </tr>\n",
       "    <tr>\n",
       "      <th>4</th>\n",
       "      <td>1.</td>\n",
       "      <td>Cilacap</td>\n",
       "      <td>437291</td>\n",
       "      <td>441664</td>\n",
       "      <td>1999061</td>\n",
       "      <td>2019052</td>\n",
       "      <td>1237947</td>\n",
       "      <td>1286686</td>\n",
       "      <td>35466</td>\n",
       "      <td>25806</td>\n",
       "      <td>8465</td>\n",
       "      <td>8877</td>\n",
       "      <td>25954</td>\n",
       "      <td>25139</td>\n",
       "    </tr>\n",
       "  </tbody>\n",
       "</table>\n",
       "</div>"
      ],
      "text/plain": [
       "  Produksi Telur Unggas dan Susu Sapi Menurut Kabupaten/Kota dan Jenis Ternak di Provinsi Jawa Tengah (ton), 2021 dan 2022  \\\n",
       "0  Production of Poultry Eggs and Cow Milk by Reg...                                                                         \n",
       "1              Kabupaten/Kota\\nRegency/ Municipality                                                                         \n",
       "2                                                NaN                                                                         \n",
       "3                                  Kabupaten/Regency                                                                         \n",
       "4                                                 1.                                                                         \n",
       "\n",
       "  Unnamed: 1                    Unnamed: 2 Unnamed: 3           Unnamed: 4  \\\n",
       "0        NaN                           NaN        NaN                  NaN   \n",
       "1        NaN  Ayam Kampung\\nNative Chicken        NaN  Ayam Petelur\\nLayer   \n",
       "2        NaN                          2021      2022*                 2021   \n",
       "3        NaN                           NaN        NaN                  NaN   \n",
       "4    Cilacap                        437291     441664              1999061   \n",
       "\n",
       "  Unnamed: 5  Unnamed: 6 Unnamed: 7                Unnamed: 8 Unnamed: 9  \\\n",
       "0        NaN         NaN        NaN                       NaN        NaN   \n",
       "1        NaN  Itik\\nDuck        NaN  Sapi Perah\\nDairy Cattle        NaN   \n",
       "2      2022*        2021      2022*                      2021      2022*   \n",
       "3        NaN         NaN        NaN                       NaN        NaN   \n",
       "4    2019052     1237947    1286686                     35466      25806   \n",
       "\n",
       "                  Unnamed: 10 Unnamed: 11                   Unnamed: 12  \\\n",
       "0                         NaN         NaN                           NaN   \n",
       "1  Kulit Sapi/Kerbau (lembar)         NaN  Kulit Kambing/Domba (lembar)   \n",
       "2                        2021       2022*                          2021   \n",
       "3                         NaN         NaN                           NaN   \n",
       "4                        8465        8877                         25954   \n",
       "\n",
       "  Unnamed: 13  \n",
       "0         NaN  \n",
       "1         NaN  \n",
       "2       2022*  \n",
       "3         NaN  \n",
       "4       25139  "
      ]
     },
     "execution_count": 24,
     "metadata": {},
     "output_type": "execute_result"
    }
   ],
   "source": [
    "df = pd.read_excel('telur_susu_2023-07.xls')\n",
    "df.head()"
   ]
  },
  {
   "cell_type": "code",
   "execution_count": null,
   "id": "b3d2497c",
   "metadata": {},
   "outputs": [],
   "source": []
  }
 ],
 "metadata": {
  "kernelspec": {
   "display_name": "Python 3 (ipykernel)",
   "language": "python",
   "name": "python3"
  },
  "language_info": {
   "codemirror_mode": {
    "name": "ipython",
    "version": 3
   },
   "file_extension": ".py",
   "mimetype": "text/x-python",
   "name": "python",
   "nbconvert_exporter": "python",
   "pygments_lexer": "ipython3",
   "version": "3.11.4"
  }
 },
 "nbformat": 4,
 "nbformat_minor": 5
}
